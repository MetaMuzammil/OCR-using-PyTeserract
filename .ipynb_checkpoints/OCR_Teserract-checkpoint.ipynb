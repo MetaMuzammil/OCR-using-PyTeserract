{
 "cells": [
  {
   "cell_type": "code",
   "execution_count": 1,
   "id": "f91ebac7",
   "metadata": {},
   "outputs": [],
   "source": [
    "from PIL import Image\n",
    "import pytesseract\n",
    "import numpy as np\n",
    "import cv2"
   ]
  },
  {
   "cell_type": "code",
   "execution_count": 12,
   "id": "9d67f934",
   "metadata": {},
   "outputs": [],
   "source": [
    "img = Image.open('kmartPriceTag.jpeg')"
   ]
  },
  {
   "cell_type": "code",
   "execution_count": 13,
   "id": "c44b57ff",
   "metadata": {},
   "outputs": [
    {
     "name": "stdout",
     "output_type": "stream",
     "text": [
      "L\n",
      "Tie\n",
      "i\n",
      "\n",
      "Size: 12\n",
      "\n",
      "S$ NOTCH NECK TOP\n",
      "cE OYE\n",
      "\n",
      "va\n",
      "WMS WYN TOP Jaa * 052 | 169888823\n",
      "\n",
      " \n",
      "\n",
      " \n",
      "\n",
      "‘MO\n",
      "\n",
      "1107°2102\n",
      "\n",
      "17\n",
      "\n",
      "|\n",
      "\f",
      "\n"
     ]
    }
   ],
   "source": [
    "##1\n",
    "\n",
    "result = pytesseract.image_to_string(img)\n",
    "print(result)"
   ]
  },
  {
   "cell_type": "code",
   "execution_count": 10,
   "id": "9c0b681e",
   "metadata": {},
   "outputs": [
    {
     "name": "stdout",
     "output_type": "stream",
     "text": [
      "['STP', '', 'LS NOTCH NECK 70?', '', 'prea?) 3 Pod', '0147559 CTL', '', 'ssh henneaanaaae', '', 'uu', '', 'a', '', ' ', '\\x0c']\n"
     ]
    }
   ],
   "source": [
    "##2\n",
    "\n",
    "image = cv2.imread('kmartPriceTag.jpeg')\n",
    "gray_image = cv2.cvtColor(image, cv2.COLOR_BGR2GRAY)\n",
    "binary_image = cv2.threshold(gray_image ,130,255,cv2.THRESH_BINARY + cv2.THRESH_OTSU)[1]\n",
    "#Inverting the image\n",
    "inverted_bin = cv2.bitwise_not(binary_image)\n",
    " \n",
    "#Some noise reduction\n",
    "kernel = np.ones((2,2),np.uint8)\n",
    "processed_img = cv2.erode(inverted_bin, kernel, iterations = 1)\n",
    "processed_img = cv2.dilate(processed_img, kernel, iterations = 1)\n",
    " \n",
    "#Applying image_to_string method\n",
    "text = pytesseract.image_to_string(processed_img)\n",
    "text = text.split('\\n')\n",
    "\n",
    "print(text)"
   ]
  },
  {
   "cell_type": "code",
   "execution_count": 32,
   "id": "fd60c50a",
   "metadata": {},
   "outputs": [],
   "source": [
    "import cv2\n",
    "import os\n",
    "img = cv2.imread(\"random.jpeg\")\n",
    "cv2.imshow(\"original\", image)\n",
    "\n",
    "def gray(img):\n",
    "    \n",
    "    img = cv2.cvtColor(img, cv2.COLOR_BGR2GRAY)\n",
    "    path = '/Users/muzammil/Data/Back_Up_Muzammil/LEARNING/Colakin_Assignment/task1/preprocess'\n",
    "    cv2.imwrite(os.path.join(path , 'waka.jpg'), img)\n",
    "    return img\n",
    "\n",
    "# blur\n",
    "def blur(img) :\n",
    "    img_blur = cv2.GaussianBlur(img,(5,5),0)\n",
    "    cv2.imwrite(r\"./preprocess/img_blur.png\",img)    \n",
    "    return img_blur\n",
    "\n",
    "# threshold\n",
    "def threshold(img):\n",
    "    #pixels with value below 100 are turned black (0) and those with higher value are turned white (255)\n",
    "    img = cv2.threshold(img, 100, 255, cv2.THRESH_OTSU | cv2.THRESH_BINARY)[1]    \n",
    "    cv2.imwrite(r\"./preprocess/img_threshold.png\",img)\n",
    "    return img"
   ]
  },
  {
   "cell_type": "code",
   "execution_count": 36,
   "id": "873a3a05",
   "metadata": {},
   "outputs": [
    {
     "name": "stdout",
     "output_type": "stream",
     "text": [
      "['MENS SMART CASUAL', '', 'PREVIEW SHIRT', '', '4150181072', '', 'BLACK 62940054', 'BLACK VLutVVN', '', ' ', '', '250', '\\x0c']\n"
     ]
    }
   ],
   "source": [
    "im_gray = gray(img)\n",
    "im_blur = blur(im_gray)\n",
    "im_thresh = threshold(im_blur)\n",
    "contours, _ = cv2.findContours(im_thresh, cv2.RETR_EXTERNAL, cv2.CHAIN_APPROX_NONE) \n",
    "text = pytesseract.image_to_string(im_thresh)\n",
    "text = text.split('\\n')\n",
    "\n",
    "print(text)"
   ]
  },
  {
   "cell_type": "code",
   "execution_count": 34,
   "id": "c8a70223",
   "metadata": {},
   "outputs": [],
   "source": [
    "def contours_text(orig, img, contours):\n",
    "    for cnt in contours: \n",
    "        x, y, w, h = cv2.boundingRect(cnt) \n",
    "\n",
    "        # Drawing a rectangle on copied image \n",
    "        rect = cv2.rectangle(orig, (x, y), (x + w, y + h), (0, 255, 255), 2) \n",
    "        \n",
    "        cv2.imshow('cnt',rect)\n",
    "        cv2.waitKey()\n",
    "\n",
    "        # Cropping the text block for giving input to OCR \n",
    "        cropped = orig[y:y + h, x:x + w] \n",
    "\n",
    "        # Apply OCR on the cropped image \n",
    "        config = ('-l eng --oem 1 --psm 3')\n",
    "        text = pytesseract.image_to_string(cropped, config=config) \n",
    "\n",
    "        print(text)"
   ]
  },
  {
   "cell_type": "code",
   "execution_count": 39,
   "id": "51be7b92",
   "metadata": {},
   "outputs": [],
   "source": [
    "orig = cv2.imread(\"random.jpeg\") \n",
    "img = cv2.imread(\"random.jpeg\")"
   ]
  },
  {
   "cell_type": "code",
   "execution_count": null,
   "id": "c85d21e8",
   "metadata": {},
   "outputs": [],
   "source": [
    "contours_text(orig, img, contours)"
   ]
  },
  {
   "cell_type": "code",
   "execution_count": null,
   "id": "fda1d599",
   "metadata": {},
   "outputs": [],
   "source": []
  },
  {
   "cell_type": "code",
   "execution_count": null,
   "id": "890ea638",
   "metadata": {},
   "outputs": [],
   "source": [
    "a"
   ]
  }
 ],
 "metadata": {
  "kernelspec": {
   "display_name": "Python 3",
   "language": "python",
   "name": "python3"
  },
  "language_info": {
   "codemirror_mode": {
    "name": "ipython",
    "version": 3
   },
   "file_extension": ".py",
   "mimetype": "text/x-python",
   "name": "python",
   "nbconvert_exporter": "python",
   "pygments_lexer": "ipython3",
   "version": "3.7.6"
  }
 },
 "nbformat": 4,
 "nbformat_minor": 5
}
